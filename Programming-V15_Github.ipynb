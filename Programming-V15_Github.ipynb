{
 "cells": [
  {
   "cell_type": "markdown",
   "id": "5c66229e-04b0-40fa-9508-801a2bb22d04",
   "metadata": {},
   "source": [
    "# Option Pricing using different techniques\n",
    "## Comparative study using Binomial Tree and Geometric Brownian Motion\n",
    "In the financial markets, options represent a prevalent form of derivatives, offering the holder the privilege, yet not the compulsion, to purchase or dispose of an underlying asset at a predetermined price by or before a set date. Given their intricate nature and adaptability, the precise pricing of options is a focal point of ongoing study and is imperative for effective risk management, trading strategies, and investment choices.\n",
    "In this project, I developed code to price options using two distinct models: the first employing Geometric Brownian Motion and the second utilizing a Binomial Tree approach. To ensure realistic input values for volatility, I estimated this parameter using historical stock data sourced from Yahoo Finance.\n",
    "European options were priced using both methods to facilitate a comparative analysis. American, digital, and American-digital options were priced using the method best suited to their specific characteristics.\n"
   ]
  },
  {
   "cell_type": "markdown",
   "id": "23c85013-35ab-4a85-9b9c-fa50d67805aa",
   "metadata": {
    "tags": []
   },
   "source": [
    "## 1. Binomial Asset Pricing Model\n",
    "\n",
    "##### Concept\n",
    "\n",
    "A binomial tree with 'n' periods is a stochastic model that approximates the dynamics of a stock price as it evolves over time. Initially, the entire duration of the option is partitioned into infinitesimally small intervals (∆t). Under the no-arbitrage principle, each point in price experiences upward and downward movements. Over time, these price changes propagate exponentially, forming a binary tree illustrating the stock price's path leading up to the option's expiration. To compute option prices, the value at each previous node is estimated from the final time node's price (at time T) and calculated backward to the present moment. This iterative process yields the option prices (Meng, Y. (2022)).\n",
    "\n",
    "##### Equation:\n",
    "\n",
    "$$\n",
    "S^{(n)}(i+1)= \\left\\{ \n",
    "\\begin{aligned} \n",
    "uS^{(n)}(j) &: \\text{ if prices increase from } i \\text{ to } i+1 \\\\\n",
    "dS^{(n)}(j) &: \\text{ if prices decrease from } i \\text{ to } i+1 \n",
    "\\end{aligned} \n",
    "\\right. \n",
    "$$\n",
    "\n",
    "\n",
    "This is a discrete-time stochastic process in which the underlying price can only go up or down. \n",
    "\n",
    "In this context, it is a prerequisite that the value of 'u' must be greater than 'd', with the initial stock price represented as $S{(n)}(0) = s$. According to the Cox, Ross, and Rubinstein (CRR tree) model, the determination of the up and down factors is reliant on volatility. Furthermore, the time duration for each step is quantified in years. The model incorporates upward or downward movements in log prices, a feature determined by the specified parameters (Meng, Y. (2022)):\n",
    "\n",
    "$$u=e^{\\sigma\\sqrt{\\delta t}}$$\n",
    "$$d=e^{-\\sigma\\sqrt{\\delta t}}=\\frac{1}{u}$$\n",
    "\n",
    "##### Parameters\n",
    "\n",
    "- **$S^{(n)}(i+1)$**: $S^{(n)}$ denotes the initial stock price at time $t=0$. $S^{(n)}(i+1)$ represents the asset price at step $i+1$ in path $n$ of a tree model. This value is calculated by multiplying the current price $S^{(n)}j$ by an up factor $u$ or a down factor $d$, depending on market movements from one step to the next in the tree model.\n",
    "\n",
    "\n",
    "\n",
    "- **$j$**: In a tree model, $j$ is used as an index or position within a specific step $i$. It helps identify distinct states or price levels of an asset at each step in the model. This index is key in tracing the path of an asset's price and calculating its value at various points in a binomial tree model.\n",
    "    \n",
    "\n",
    "  \n",
    "- **$u$**: In a tree model, $u$ represents the factor of proportional increase in an asset's price, calculated using the formula $e^{\\sigma\\sqrt{\\delta t}}$. This factor is crucial for simulating the potential upward movement in the asset's price over a discrete time interval, reflecting the impact of market volatility and time on price dynamics. The value of $u$ is derived from the asset's volatility $\\sigma$ and a small time step $\\delta t$, capturing the essence of price fluctuation in a specified time frame, which is vital for options pricing and risk management.\n",
    " \n",
    "\n",
    "     \n",
    "- **$d$**: In a tree model, $d$ denotes the factor for the proportional decrease in an asset's price, calculated as $d = e^{-\\sigma\\sqrt{\\delta t}}$ or equivalently as $d = \\frac{1}{u}$. This factor is key in modeling the potential downward movement of an asset's price over a discrete time interval, taking into account the asset's volatility and the effects of time. The value of $d$ is inversely related to $u$, the up factor, and is a function of the asset's volatility $\\sigma$ and a small time step $\\delta t$, thereby reflecting possible downward price fluctuations within a specific timeframe, crucial for options pricing and risk assessment.\n",
    "<br>\n",
    " \n",
    "#### Option value at final node:\n",
    "Upon learning u and d, the price of the asset at each node can be calculated. Subsequently, determining the option value at the final node (the option's expiration date - time T) becomes necessary. The option value is:\n",
    "\n",
    "For call options: $MAX[(S_{n}-K),0]$\n",
    "\n",
    "For put options: $MAX[(K-S_{n}),0]$\n",
    "##### Parameters\n",
    "- **$K$**: The strike price $K$ is the price at which an option holder can exercise their right to buy or sell the underlying asset. The strike price is a key determinant of the value of an option. The closer the market price of the underlying asset is to the strike price, the more valuable the option is. Call options: The holder can buy the underlying asset at a discount if the market price is higher than the strike price. Put options: The holder can sell the underlying asset at a premium if the market price is lower than the strike price.\n",
    "       \n",
    "\n",
    "- **$S_{n}$**: $S_{n}$ is the price of the underlying asset at the $n^{th}$ period (expiration date) and, it is a key element in determining the value of an option at its maturity.This price is crucial for calculating the actual gain or loss realized from the option, as it determines whether the option is \"in the money\" or \"out of the money\" at expiration.\n",
    "\n",
    "<br> \n",
    "\n",
    "\n",
    "#### Option value at previous node:\n",
    "Now it's necessary to discount the value at time T to the previous node T-1. Following the Risk-Neutral Valuation and Replication principle, the anticipated value is computed by weighing the option values from the subsequent two nodes according to their respective probabilities, as follows:\n",
    "    \n",
    "\n",
    "$$V_{1}=[pS_{u}+(1-p)S_{d}]e^{(-r\\Delta t)}$$\n",
    "\n",
    "\n",
    "\n",
    "$$p=\\frac{e^{r\\Delta t - d}}{u-d}$$\n",
    "##### Parameters\n",
    "\n",
    "- **$V_{1}$**: Represents the future value or expected price of an asset or an option in the next time step.\n",
    "    \n",
    "- **$p$**: The risk-neutral probability of the asset's price increasing. It reflects the expected likelihood of price movement in a risk-neutral world, where expected returns are equal to the risk-free rate.\n",
    "\n",
    "- **$S_{u}$**: The asset's price if it increases in the next time step. It's calculated by multiplying the current price with the up factor $u$.\n",
    "\n",
    "- **$S_{d}$**: The asset's price if it decreases in the next time step. It's calculated by multiplying the current price with the down factor $d$.\n",
    "    \n",
    "- **$r$**: The risk-free interest rate, used for discounting the future value back to the present value.\n",
    "    \n",
    "- **$\\Delta t$**: A small time increment, representing the time gap between the current and the next step in the model.\n",
    "    \n",
    "- **$e^{(-r\\Delta t)} $**: The discount factor used to calculate the present value of future cash flows or prices.el.\n",
    "\n",
    "- **$\\frac{e^{r\\Delta t - d}}{u-d}$**: The formula for calculating $p$, the risk-neutral probability. It balances the up and down factors $u$ and $d$ with the risk-free rate, ensuring that the expected return in the model matches the risk-free rate over the time increment $\\Delta t$.\n",
    "    \n",
    "<br>\n",
    "  \n",
    "\n",
    "\n",
    "The formula saw previously in \"Option value in final node\" is employed to determine the value at the T-1 node, denoted as V2. By comparing V1 and V2, if V1 is higher, the option is exercised; otherwise, it is not exercised. This process is iterated continuously, enabling the calculation of values at all preceding nodes, facilitating the decision-making process regarding the exercise or non-exercise of the option (Meng, Y. (2022)).\n",
    "   \n",
    "\n"
   ]
  },
  {
   "cell_type": "markdown",
   "id": "d55aa37c-a427-440b-8723-6364d10530fe",
   "metadata": {
    "tags": []
   },
   "source": [
    "## 1. Geometric Brownian Motion (GBM) \n",
    "\n",
    "##### Concept\n",
    "Geometric Brownian Motion (GBM) is a mathematical model used to describe the continuous-time, stochastic behaviour of stock prices. The basic idea for this model is that the prices of an option follow a drift (μ) over a certain period of time and get deviated from it after the occurrence of a shock (ϵ). The only random part of the formula lies in the Wiener process, which follows a standard normal distribution (~N(0,1)); this process describes how the price of a stock changes inadvertently with its variance and passing of time and that, if σ was equal to 0, the price of the stock would be equal to its expected value multiplied by the passing of time (Hull, J.C. (2017)).\n",
    "\n",
    "##### Equation\n",
    "$$ dS(t) = \\mu S(t) dt + \\sigma S(t) dW(t) $$\n",
    "\n",
    "It incorporates randomness (volatility) and trend (drift) to simulate how stock prices evolve over time, forming the basis for financial models like the Black-Scholes-Merton option pricing model.\n",
    "\n",
    "##### Parameters\n",
    "\n",
    "- **$S(t)$**: The stock price at time 𝑡 in the Geometric Brownian Motion (GBM) model, which follows a stochastic process with normally distributed returns.\n",
    "\n",
    "- **$\\mu$**: The expected return or drift rate of the stock, representing the average rate of return in a trend without randomness.\n",
    "\n",
    "- **$\\sigma$**: The volatility or standard deviation of the stock's returns, indicating the degree of uncertainty or variability in the stock price movements. \n",
    "\n",
    "- **$dW(t)$**: A small increment of a Wiener process (Brownian motion) that introduces randomness into the stock price's growth in the GBM model.\n"
   ]
  },
  {
   "cell_type": "markdown",
   "id": "83fe2298-e169-49a3-917f-7af4b7197c34",
   "metadata": {
    "tags": []
   },
   "source": [
    "## **** Utils Functions ****\n",
    "#### *Run this cell before the others, do not modify unless for specific needs*"
   ]
  },
  {
   "cell_type": "code",
   "execution_count": 1,
   "id": "efcba8c9-f18c-4c69-9be8-b20e4b26027b",
   "metadata": {
    "collapsed": true,
    "jupyter": {
     "outputs_hidden": true
    },
    "tags": []
   },
   "outputs": [
    {
     "name": "stdout",
     "output_type": "stream",
     "text": [
      "Requirement already satisfied: yfinance in c:\\users\\melectronics\\anaconda3\\lib\\site-packages (0.2.32)\n",
      "Requirement already satisfied: pandas>=1.3.0 in c:\\users\\melectronics\\anaconda3\\lib\\site-packages (from yfinance) (2.1.3)\n",
      "Requirement already satisfied: numpy>=1.16.5 in c:\\users\\melectronics\\anaconda3\\lib\\site-packages (from yfinance) (1.24.3)\n",
      "Requirement already satisfied: requests>=2.31 in c:\\users\\melectronics\\anaconda3\\lib\\site-packages (from yfinance) (2.31.0)\n",
      "Requirement already satisfied: multitasking>=0.0.7 in c:\\users\\melectronics\\anaconda3\\lib\\site-packages (from yfinance) (0.0.11)\n",
      "Requirement already satisfied: lxml>=4.9.1 in c:\\users\\melectronics\\anaconda3\\lib\\site-packages (from yfinance) (4.9.2)\n",
      "Requirement already satisfied: appdirs>=1.4.4 in c:\\users\\melectronics\\anaconda3\\lib\\site-packages (from yfinance) (1.4.4)\n",
      "Requirement already satisfied: pytz>=2022.5 in c:\\users\\melectronics\\anaconda3\\lib\\site-packages (from yfinance) (2022.7)\n",
      "Requirement already satisfied: frozendict>=2.3.4 in c:\\users\\melectronics\\anaconda3\\lib\\site-packages (from yfinance) (2.3.9)\n",
      "Requirement already satisfied: peewee>=3.16.2 in c:\\users\\melectronics\\anaconda3\\lib\\site-packages (from yfinance) (3.17.0)\n",
      "Requirement already satisfied: beautifulsoup4>=4.11.1 in c:\\users\\melectronics\\anaconda3\\lib\\site-packages (from yfinance) (4.12.2)\n",
      "Requirement already satisfied: html5lib>=1.1 in c:\\users\\melectronics\\anaconda3\\lib\\site-packages (from yfinance) (1.1)\n",
      "Requirement already satisfied: soupsieve>1.2 in c:\\users\\melectronics\\anaconda3\\lib\\site-packages (from beautifulsoup4>=4.11.1->yfinance) (2.4)\n",
      "Requirement already satisfied: six>=1.9 in c:\\users\\melectronics\\anaconda3\\lib\\site-packages (from html5lib>=1.1->yfinance) (1.16.0)\n",
      "Requirement already satisfied: webencodings in c:\\users\\melectronics\\anaconda3\\lib\\site-packages (from html5lib>=1.1->yfinance) (0.5.1)\n",
      "Requirement already satisfied: python-dateutil>=2.8.2 in c:\\users\\melectronics\\anaconda3\\lib\\site-packages (from pandas>=1.3.0->yfinance) (2.8.2)\n",
      "Requirement already satisfied: tzdata>=2022.1 in c:\\users\\melectronics\\anaconda3\\lib\\site-packages (from pandas>=1.3.0->yfinance) (2023.3)\n",
      "Requirement already satisfied: charset-normalizer<4,>=2 in c:\\users\\melectronics\\anaconda3\\lib\\site-packages (from requests>=2.31->yfinance) (2.0.4)\n",
      "Requirement already satisfied: idna<4,>=2.5 in c:\\users\\melectronics\\anaconda3\\lib\\site-packages (from requests>=2.31->yfinance) (3.4)\n",
      "Requirement already satisfied: urllib3<3,>=1.21.1 in c:\\users\\melectronics\\anaconda3\\lib\\site-packages (from requests>=2.31->yfinance) (1.26.16)\n",
      "Requirement already satisfied: certifi>=2017.4.17 in c:\\users\\melectronics\\anaconda3\\lib\\site-packages (from requests>=2.31->yfinance) (2023.11.17)\n",
      "Note: you may need to restart the kernel to use updated packages.\n"
     ]
    }
   ],
   "source": [
    "pip install yfinance"
   ]
  },
  {
   "cell_type": "code",
   "execution_count": 2,
   "id": "533bf648-4791-46b9-8ff3-f7de786a9b6a",
   "metadata": {
    "collapsed": true,
    "jupyter": {
     "outputs_hidden": true
    },
    "tags": []
   },
   "outputs": [
    {
     "name": "stdout",
     "output_type": "stream",
     "text": [
      "Requirement already satisfied: matplotlib in c:\\users\\melectronics\\anaconda3\\lib\\site-packages (3.7.1)Note: you may need to restart the kernel to use updated packages.\n",
      "\n",
      "Requirement already satisfied: contourpy>=1.0.1 in c:\\users\\melectronics\\anaconda3\\lib\\site-packages (from matplotlib) (1.0.5)\n",
      "Requirement already satisfied: cycler>=0.10 in c:\\users\\melectronics\\anaconda3\\lib\\site-packages (from matplotlib) (0.11.0)\n",
      "Requirement already satisfied: fonttools>=4.22.0 in c:\\users\\melectronics\\anaconda3\\lib\\site-packages (from matplotlib) (4.25.0)\n",
      "Requirement already satisfied: kiwisolver>=1.0.1 in c:\\users\\melectronics\\anaconda3\\lib\\site-packages (from matplotlib) (1.4.4)\n",
      "Requirement already satisfied: numpy>=1.20 in c:\\users\\melectronics\\anaconda3\\lib\\site-packages (from matplotlib) (1.24.3)\n",
      "Requirement already satisfied: packaging>=20.0 in c:\\users\\melectronics\\anaconda3\\lib\\site-packages (from matplotlib) (23.0)\n",
      "Requirement already satisfied: pillow>=6.2.0 in c:\\users\\melectronics\\anaconda3\\lib\\site-packages (from matplotlib) (9.4.0)\n",
      "Requirement already satisfied: pyparsing>=2.3.1 in c:\\users\\melectronics\\anaconda3\\lib\\site-packages (from matplotlib) (3.0.9)\n",
      "Requirement already satisfied: python-dateutil>=2.7 in c:\\users\\melectronics\\anaconda3\\lib\\site-packages (from matplotlib) (2.8.2)\n",
      "Requirement already satisfied: six>=1.5 in c:\\users\\melectronics\\anaconda3\\lib\\site-packages (from python-dateutil>=2.7->matplotlib) (1.16.0)\n"
     ]
    }
   ],
   "source": [
    "pip install matplotlib"
   ]
  },
  {
   "cell_type": "markdown",
   "id": "6fce01da-9023-43da-864a-722313d26d76",
   "metadata": {
    "tags": []
   },
   "source": [
    "#### *Binary Tree function and Montecarlo Simulation of Geomatric Brownian Motion function for European, American, Digital and American-digital option*"
   ]
  },
  {
   "cell_type": "code",
   "execution_count": 2,
   "id": "8d351738-2159-4032-b285-f18f396a2c42",
   "metadata": {
    "tags": []
   },
   "outputs": [],
   "source": [
    "# importing the necessary library for calculations\n",
    "import numpy as np ; import pandas as pd ; import yfinance as yf; import matplotlib.pyplot as plt; from scipy.stats import norm; from datetime import datetime\n",
    "\"\"\"\n",
    "Prices a European option (call or put) using a binary tree model.\n",
    "\n",
    "Parameters:\n",
    "S0 (float): Initial stock price of the underlying asset.\n",
    "K (float): Strike price of the option.\n",
    "T (float): Time to maturity in years.\n",
    "r (float): Risk-free interest rate.\n",
    "sigma (float): Volatility of the underlying asset.\n",
    "steps (int): Number of steps in the binary tree.\n",
    "option_type (str): Type of the option ('call' or 'put').\n",
    "simulations (int): number of simulations to run.\n",
    "\n",
    "Returns:\n",
    "float: Calculated price of the option.\n",
    "\"\"\"\n",
    "# defining the Binary Tree function for European Option\n",
    "def binary_tree_european_option(S0, K, T, r, sigma, steps, option_type):\n",
    "    \n",
    "    # Calculate parameters for the binary tree.\n",
    "    dt = T / steps #calculation of the time increment for each step of the binomial tree (d stands for delta). T/step means: total time to maturity/the number of steps in the tree.\n",
    "    u = np.exp(sigma * np.sqrt(dt)) #calculation of the up factor,namely, how much the stock price will increase in each step if the price goes up.\n",
    "    d = 1 / u #calculation of down factor (inverse of u).\n",
    "    p = (np.exp(r * dt) - d) / (u - d) #calculation of Risk-neutral probability of the stock price moving up in each step. The formula balances the up and down movements of the stock price in a risk-neutral world (where expected returns are equal to the risk-free rate r) over the time increment dt.\n",
    "\n",
    "    # Initializing the binary tree\n",
    "    price_tree = np.zeros((steps + 1, steps + 1)) #A zero-initialized array to represent potential asset PRICES at each node of the binomial tree.      \n",
    "    option_tree = np.zeros_like(price_tree) #A matrix of the same size as price_tree, initialized to calculate and store the VALUE of the option at each node of the tree, following the process of backward induction.\n",
    "\n",
    "    # Building the binary tree\n",
    "    for i in range(steps + 1): #i indicate the levels of the three (es: steps 1 we have i=step+1=2 levels) . Nested for loops used to populate the price_tree matrix with the underlying asset's prices at each node of the binomial tree.\n",
    "        for j in range(i + 1): #J indicate the nodes of the three (ex: at i=2 there are j=i+1=3 nodes). This inner loop iterates through the possible price states at that step. \n",
    "            price_tree[j, i] = S0 * (u ** j) * (d ** (i - j)) #Calculation of the asset's price at each node by multiplying the initial price S0 by the up and down factors.\n",
    "            \n",
    "    # Calculating option price at maturity based on option type - These following operations are performed for each node in the last step of the binomial tree and the results are stored in (option_tree[:, steps]).\n",
    "    if option_type == 'call':\n",
    "        option_tree[:, steps] = np.maximum(price_tree[:, steps] - K, 0) #Calculation of payoff at maturity for call options as the maximum of zero and the difference between the underlying asset price (price_tree[:, steps]) and the strike price (K) in the final step of the binomial tree.\n",
    "    elif option_type == 'put':\n",
    "        option_tree[:, steps] = np.maximum(K - price_tree[:, steps], 0) #Calculation the payoff at maturity for put options as the maximum of zero and the difference between the strike price (K) and the underlying asset price (price_tree[:, steps]) in the final step of the tree.\n",
    "    else:\n",
    "        raise ValueError(\"option_type must be 'call' or 'put'\") #Is shown a ValueError if 'option_type' is not specified as either 'call' or 'put', ensuring valid input for the option type.\n",
    "\n",
    "    # Backward induction\n",
    "    for i in range(steps - 1, -1, -1): #Inside the brackets this code contain (start, end, step) thus the first \"-1\" sets the starting point at the second-to-last level of the binomial tree, the second \"-1\" ensures the loop goes down to the lowest level (0), and the third \"-1\" sets the loop's step to decrement, enabling backward induction through the tree's levels.\n",
    "        for j in range(i + 1):\n",
    "            option_tree[j, i] = np.exp(-r * dt) * (p * option_tree[j, i + 1] + (1 - p) * option_tree[j + 1, i + 1]) # The code computes the current value of the option at each node by averaging the discounted future values from the next step, using backward induction through the binomial tree.\n",
    "\n",
    "    return option_tree[0, 0]\n",
    "\n",
    "# defining the Monte Carlo simulation of Geomatric Brownian Motion function for European Option\n",
    "def MC_of_GBM_european_option(S0, K, T, r, sigma, option_type='call', simulations=10000):\n",
    "    \n",
    "    # Simulates the final paths of the underlying asset using geometric Brownian motion\n",
    "    Z = np.random.standard_normal(simulations)\n",
    "    ST = S0 * np.exp((r - 0.5 * sigma**2) * T + sigma * np.sqrt(T) * Z)\n",
    "    \n",
    "    # Calculate payments for call and put options\n",
    "    if option_type == 'call':\n",
    "        payoffs = np.maximum(ST - K, 0)\n",
    "    elif option_type == 'put':\n",
    "        payoffs = np.maximum(K - ST, 0)\n",
    "    else:\n",
    "        raise ValueError(\"L'opzione deve essere 'call' o 'put'.\")\n",
    "\n",
    "    # Calculates the option price as the discounted average of the payments\n",
    "    option_price = np.exp(-r * T) * np.mean(payoffs)\n",
    "    return option_price\n",
    "\n",
    "# defining the Monte Carlo simulation of Geomatric Brownian Motion function for Asian Option\n",
    "# ----- begin code from ChatGPT -----\n",
    "def MC_of_GBM_asian_option(S, K, T, r, sigma, n, option_type='call', num_simulations=100000):\n",
    "    dt = T / n\n",
    "    stock_prices = np.zeros((num_simulations, n+1))\n",
    "    stock_prices[:, 0] = S\n",
    "    for i in range(1, n+1):\n",
    "        Z = np.random.normal(0, 1, num_simulations)\n",
    "        stock_prices[:, i] = stock_prices[:, i-1] * np.exp((r - 0.5 * sigma**2) * dt + sigma * np.sqrt(dt) * Z)\n",
    "    average_prices = np.mean(stock_prices, axis=1)\n",
    "    if option_type == 'call':\n",
    "        payoff = np.maximum(average_prices - K, 0)\n",
    "    elif option_type == 'put':\n",
    "        payoff = np.maximum(K - average_prices, 0)\n",
    "    else:\n",
    "        raise ValueError(\"Invalid option_type. Use 'call' or 'put'.\")\n",
    "    discounted_payoff = np.exp(-r * T) * payoff\n",
    "    option_price = np.mean(discounted_payoff)\n",
    "    return option_price\n",
    "# ----- end code from ChatGPT -----\n",
    "\n",
    "# defining the Monte Carlo simulation of Geomatric Brownian Motion function for Digital Option\n",
    "# ----- begin code from ChatGPT -----\n",
    "def MC_of_GBM_digital_option(S, K, r, T, sigma, option_type):\n",
    "    d1 = (np.log(S / K) + (r + 0.5 * sigma**2) * T) / (sigma * np.sqrt(T)) \n",
    "    if option_type == 'call':\n",
    "        option_price = np.exp(-r * T) * norm.cdf(d1)\n",
    "    elif option_type == 'put':\n",
    "        option_price = np.exp(-r * T) * (1 - norm.cdf(d1))\n",
    "    else:\n",
    "        raise ValueError(\"Invalid option type. Use 'call' or 'put'.\")\n",
    "    return option_price\n",
    "# ----- end code from ChatGPT -----\n",
    "\n",
    "# defining the Binary Tree function for American-digital Option\n",
    "# ----- begin code from ChatGPT -----\n",
    "def binary_tree_american_digital_option(S, K, r, T, sigma, option_type, threshold, steps=1000):\n",
    "    dt = T / steps\n",
    "    u = np.exp(sigma * np.sqrt(dt))\n",
    "    d = 1 / u\n",
    "    p = (np.exp(r * dt) - d) / (u - d)\n",
    "    # Initialize the option values at maturity\n",
    "    stock_prices = np.zeros((steps + 1, ))\n",
    "    option_values = np.zeros((steps + 1, ))\n",
    "    for i in range(steps + 1):\n",
    "        stock_prices[i] = S * (u ** (steps - i)) * (d ** i)\n",
    "        if option_type == 'call':  # Call option\n",
    "            option_values[i] = 1.0 if stock_prices[i] >= threshold else 0.0\n",
    "        elif option_type == 'put':  # Put option\n",
    "            option_values[i] = 1.0 if stock_prices[i] <= threshold else 0.0\n",
    "    # Calculate option values at each node\n",
    "    for j in range(steps - 1, -1, -1):\n",
    "        for i in range(j + 1):\n",
    "            option_values[i] = np.exp(-r * dt) * (p * option_values[i] + (1 - p) * option_values[i + 1])\n",
    "            stock_prices[i] = stock_prices[i] / u\n",
    "\n",
    "            # Check for early exercise\n",
    "            if option_type == 'call':  # Call option\n",
    "                option_values[i] = max(option_values[i], 1.0 if stock_prices[i] >= threshold else 0.0)\n",
    "            elif option_type == 'put':  # Put option\n",
    "                option_values[i] = max(option_values[i], 1.0 if stock_prices[i] <= threshold else 0.0)\n",
    "    return option_values[0]\n",
    "# ----- end code from ChatGPT -----\n"
   ]
  },
  {
   "cell_type": "markdown",
   "id": "858fa9bc-95ba-40f8-9d8d-72a8967e3d88",
   "metadata": {
    "tags": []
   },
   "source": [
    "## **** Specification of Option Parameters ****\n",
    "*Option's parameters that need to be specified: $stock\\_symbol$ $start\\_date$, $end\\_date$, $expiry\\_date$, $S_0$, $K$, $T$, $r$, $\\sigma$, $steps$ and $n$.*"
   ]
  },
  {
   "cell_type": "code",
   "execution_count": 3,
   "id": "d890d2c4-00af-468c-bda9-f2a96be4eb7d",
   "metadata": {
    "tags": []
   },
   "outputs": [
    {
     "name": "stdout",
     "output_type": "stream",
     "text": [
      "[*********************100%%**********************]  1 of 1 completed\n",
      "PARAMETERS - date: 2024-02-01 18:18:02.983001\n",
      "=============================================\n",
      "Stock symbol: AMZN\n",
      "---------------------------------------------\n",
      "Start date: 2023-10-01\n",
      "End date: 2024-01-05\n",
      "Expiry data: 2024-03-15 00:00:00\n",
      "---------------------------------------------\n",
      "Latest Adjusted Close Price for AMZN: 144.57\n",
      "---------------------------------------------\n",
      "Annualized Volatility: 0.2918\n",
      "=============================================\n",
      "Latest adj. closed price - S0:   144.57\n",
      "Strike price - K:                50\n",
      "Time to maturity - T:            0.1151\n",
      "Risk-free rate - r:              0.05\n",
      "Annaulized volatility - sigma:   0.2918\n",
      "Number of steps - Steps:         100\n",
      "Number of observation - n:         50\n",
      "========================================================================\n",
      "                  Open        High         Low       Close   Adj Close  \\\n",
      "Date                                                                     \n",
      "2023-12-28  153.720001  154.080002  152.949997  153.380005  153.380005   \n",
      "2023-12-29  153.100006  153.889999  151.029999  151.940002  151.940002   \n",
      "2024-01-02  151.539993  152.380005  148.389999  149.929993  149.929993   \n",
      "2024-01-03  149.199997  151.050003  148.330002  148.470001  148.470001   \n",
      "2024-01-04  145.589996  147.380005  144.050003  144.570007  144.570007   \n",
      "\n",
      "              Volume  Daily Return  \n",
      "Date                                \n",
      "2023-12-28  27057000      0.000261  \n",
      "2023-12-29  39789000     -0.009388  \n",
      "2024-01-02  47339400     -0.013229  \n",
      "2024-01-03  49425500     -0.009738  \n",
      "2024-01-04  56039800     -0.026268  \n"
     ]
    },
    {
     "name": "stderr",
     "output_type": "stream",
     "text": [
      "C:\\Users\\Melectronics\\AppData\\Local\\Temp\\ipykernel_10148\\1362176442.py:30: FutureWarning: Series.__getitem__ treating keys as positions is deprecated. In a future version, integer keys will always be treated as labels (consistent with DataFrame behavior). To access a value by position, use `ser.iloc[pos]`\n",
      "  S0 = stock_data['Adj Close'][-1]    # The code will automatically take yesterday's closure.\n",
      "C:\\Users\\Melectronics\\AppData\\Local\\Temp\\ipykernel_10148\\1362176442.py:49: FutureWarning: Series.__getitem__ treating keys as positions is deprecated. In a future version, integer keys will always be treated as labels (consistent with DataFrame behavior). To access a value by position, use `ser.iloc[pos]`\n",
      "  print(f\"Latest Adjusted Close Price for {stock_symbol}: {round(stock_data['Adj Close'][-1],4)}\")\n"
     ]
    }
   ],
   "source": [
    "# initializing fixed parameters for the options and the models-------------------------------\n",
    "stock_symbol = 'AMZN'              # the'ticker' of the stock you want to price.\n",
    "start_date = '2023-10-01'           # beginning date of the stock pricing.\n",
    "end_date = '2024-01-05'             # ending date of the stock pricing.\n",
    "expiry_date = datetime(2024, 3, 15) # define the expiry date of the option.\n",
    "#--------------------------------------------------------------------------------------------\n",
    "\n",
    "# Fetch historical stock prices.\n",
    "stock_data = yf.download(stock_symbol, start=start_date, end=end_date)\n",
    "# Calculate daily returns.\n",
    "stock_data['Daily Return'] = stock_data['Adj Close'].pct_change()\n",
    "# Drop NaN values (first row usually).\n",
    "stock_data = stock_data.dropna()\n",
    "\n",
    "# Calculate daily volatility.\n",
    "daily_volatility = np.std(stock_data['Daily Return'])\n",
    "# Annualize the daily volatility.\n",
    "annualized_volatility = daily_volatility * np.sqrt(252)\n",
    "\n",
    "# ----- begin code from ChatGPT ---\n",
    "# calculation of time remaining until option expiry:\n",
    "current_date = datetime.today() # Define today's date.\n",
    "# calculation of days remaining from today to the expiry of the option.\n",
    "days_to_expiry = (expiry_date - current_date).days #'expiry_date' defined below.\n",
    "# Conversion from daily to annual.\n",
    "time_to_maturity = days_to_expiry / 365\n",
    "# ----- end code from ChatGPT -----\n",
    "\n",
    "# initializing fixed parameters for the options and the models-------------------------------\n",
    "S0 = stock_data['Adj Close'][-1]    # The code will automatically take yesterday's closure.\n",
    "K = 50                              # Add the strike price value corresponding to the expiry date.\n",
    "T = time_to_maturity                # The code will automatically take the period from yesterday's closing date until the expiry date of the option indicated previously in \"expiry_date\".\n",
    "r = 0.05                            # Risk free rate.\n",
    "sigma = annualized_volatility       # Calculated automatically on the basis of the given data.\n",
    "steps = 100                         # Number of steps in the binary tree.\n",
    "n= 50                               # Number of observations.\n",
    "#--------------------------------------------------------------------------------------------\n",
    "\n",
    "\n",
    "print(\"PARAMETERS -\", \"date:\", current_date)\n",
    "print('=============================================')\n",
    "print(\"Stock symbol:\", stock_symbol)\n",
    "print('---------------------------------------------')\n",
    "print('Start date:', start_date)\n",
    "print('End date:', end_date)\n",
    "print('Expiry data:', expiry_date)\n",
    "\n",
    "print('---------------------------------------------')\n",
    "print(f\"Latest Adjusted Close Price for {stock_symbol}: {round(stock_data['Adj Close'][-1],4)}\")\n",
    "print('---------------------------------------------')\n",
    "print(f\"Annualized Volatility: {round(annualized_volatility,4)}\")\n",
    "print('=============================================')\n",
    "print(\"Latest adj. closed price - S0:  \", round(S0,4))\n",
    "print(\"Strike price - K:               \", K)\n",
    "print(\"Time to maturity - T:           \", round(T,4))\n",
    "print(\"Risk-free rate - r:             \", r)\n",
    "print(\"Annaulized volatility - sigma:  \", round(sigma,4))\n",
    "print(\"Number of steps - Steps:        \", steps)\n",
    "print(\"Number of observation - n:        \", n)\n",
    "print('========================================================================')\n",
    "# Show the first few rows of the data\n",
    "print(stock_data.tail())\n"
   ]
  },
  {
   "cell_type": "markdown",
   "id": "d1c910cf-04c4-47ff-ab15-c9cc9a2a8710",
   "metadata": {
    "tags": []
   },
   "source": [
    "#############################################################################################################################################"
   ]
  },
  {
   "cell_type": "markdown",
   "id": "60dfd7d7-8b32-46bd-9728-71629e089544",
   "metadata": {
    "tags": []
   },
   "source": [
    "## EUROPEAN OPTION - Binomial Tree\n",
    "An European option is a type of financial derivative contract that gives the holder the right (but not the obligation) to buy (in the case of a call option) or sell (in the case of a put option) an underlying asset at a predetermined price (known as the strike price) on or before the expiration date of the option. The key feature of a European option is that it can only be exercised at the expiration date, not before."
   ]
  },
  {
   "cell_type": "code",
   "execution_count": 8,
   "id": "bade3020-2cd3-4e5a-8810-4e4efc6651a2",
   "metadata": {
    "tags": []
   },
   "outputs": [
    {
     "name": "stdout",
     "output_type": "stream",
     "text": [
      "OUTPUT DATA\n",
      "=============================================\n",
      "Stock symbol: AMZN\n",
      "S0: 144.57\n",
      "K: 50\n",
      "T: 0.1151\n",
      "---------------------------------------------\n",
      "Method: Binomial tree\n",
      "{'European Option Call Price': 94.6096, 'European Option Put Price': 0.0}\n",
      "=============================================\n"
     ]
    }
   ],
   "source": [
    "call_price = binary_tree_european_option(S0, K, T, r, sigma, steps, 'call')\n",
    "put_price = binary_tree_european_option(S0, K, T, r, sigma, steps, 'put')\n",
    "\n",
    "BT = {\"European Option Call Price\" : round(call_price,4),\n",
    "       \"European Option Put Price\" : round(put_price,4)}\n",
    "\n",
    "print(\"OUTPUT DATA\")\n",
    "print('=============================================')\n",
    "print(\"Stock symbol:\", stock_symbol)\n",
    "print(\"S0:\",round(S0,4)) ; print(\"K:\", K) ; print(\"T:\", round(T,4))\n",
    "print('---------------------------------------------')\n",
    "print(\"Method: Binomial tree\")\n",
    "print(BT)\n",
    "print('=============================================')\n"
   ]
  },
  {
   "cell_type": "markdown",
   "id": "32178d37-851f-4f3b-ac4c-b8d3a7e1c200",
   "metadata": {},
   "source": [
    "## EUROPEAN OPTION - Geometric Brownian Motion (GBM)\n",
    "An European option is a type of financial derivative contract that gives the holder the right (but not the obligation) to buy (in the case of a call option) or sell (in the case of a put option) an underlying asset at a predetermined price (known as the strike price) on or before the expiration date of the option. The key feature of a European option is that it can only be exercised at the expiration date, not before."
   ]
  },
  {
   "cell_type": "code",
   "execution_count": 9,
   "id": "a49c4b53-8653-49ca-9ff1-0cbdd01dd953",
   "metadata": {},
   "outputs": [
    {
     "name": "stdout",
     "output_type": "stream",
     "text": [
      "OUTPUT DATA\n",
      "=============================================\n",
      "Model is: LogNormal\n",
      "---------------------------------------------\n",
      "Stock symbol: AMZN\n",
      "S0: 144.57\n",
      "K: 50\n",
      "T: 0.1151\n",
      "---------------------------------------------\n",
      "Method: GBM model\n",
      "{'European Option Call Price': 94.8397, 'European Option Put Price': 0.0}\n",
      "=============================================\n"
     ]
    }
   ],
   "source": [
    "call_priceGBM = MC_of_GBM_european_option(S0, K, T, r, sigma, option_type='call')\n",
    "put_priceGBM = MC_of_GBM_european_option(S0, K, T, r, sigma, option_type='put')\n",
    "\n",
    "GBM = {\"European Option Call Price\" : round(call_priceGBM,4),\n",
    "       \"European Option Put Price\" : round(put_priceGBM,4)}\n",
    "\n",
    "print(\"OUTPUT DATA\")\n",
    "print('=============================================')\n",
    "print('Model is: LogNormal')\n",
    "print('---------------------------------------------')\n",
    "print(\"Stock symbol:\", stock_symbol)\n",
    "print(\"S0:\",round(S0,4)) ; print(\"K:\", K) ; print(\"T:\",round(T, 4))\n",
    "print('---------------------------------------------')\n",
    "print(\"Method: GBM model\")\n",
    "print(GBM)\n",
    "print('=============================================')\n",
    "\n"
   ]
  },
  {
   "cell_type": "markdown",
   "id": "bbf172e7-54c3-41d9-9fc2-869072d3e253",
   "metadata": {},
   "source": [
    "## ASIAN OPTION - Geometric Brownian Motion (GBM)\n",
    "An Asian option is a type of financial derivative whose payoff is determined by the average price of the underlying asset over a specified period of time. Unlike traditional options, where the payoff is based on the asset's price at the expiration date, an Asian option takes into account the average price of the asset during the entire exercise period. The most common and simpler approach to price an Asian option is by using the Monte Carlo simulation."
   ]
  },
  {
   "cell_type": "code",
   "execution_count": 10,
   "id": "ed5b0d4e-f29d-402e-a0c9-f45b41e4ce14",
   "metadata": {
    "tags": []
   },
   "outputs": [
    {
     "name": "stdout",
     "output_type": "stream",
     "text": [
      "OUTPUT DATA\n",
      "=============================================\n",
      "Model is: LogNormal\n",
      "=============================================\n",
      "Stock symbol: AMZN\n",
      "S0: 144.57\n",
      "K: 50\n",
      "T: 0.1151\n",
      "---------------------------------------------\n",
      "Method: GBM Model\n",
      "{'Asian Option Call Price': 94.4206, 'Asian Option Put Price': 0.0}\n",
      "=============================================\n"
     ]
    }
   ],
   "source": [
    "# 'call' for Call option\n",
    "call_priceGBM_asian = MC_of_GBM_asian_option(S0, K, T, r, sigma, n, option_type='call')\n",
    "\n",
    "# 'put' for Call option\n",
    "put_priceGBM_asian = MC_of_GBM_asian_option(S0, K, T, r, sigma, n, option_type='put')\n",
    "\n",
    "GBM_Asian = {\"Asian Option Call Price\" : round(call_priceGBM_asian,4),\n",
    "       \"Asian Option Put Price\" : round(put_priceGBM_asian,4)}\n",
    "\n",
    "print(\"OUTPUT DATA\")\n",
    "print('=============================================')\n",
    "print('Model is: LogNormal')\n",
    "print('=============================================')\n",
    "print(\"Stock symbol:\", stock_symbol)\n",
    "print(\"S0:\",round(S0,4)) ; print(\"K:\", K) ; print(\"T:\", round(T,4))\n",
    "print('---------------------------------------------')\n",
    "print(\"Method: GBM Model\")\n",
    "print(GBM_Asian)\n",
    "print('=============================================')\n"
   ]
  },
  {
   "cell_type": "markdown",
   "id": "cc0d3a40-7994-475f-8b02-881996cd6612",
   "metadata": {},
   "source": [
    "## DIGITAL OPTION PRICING - Geometric Brownian Motion (GBM)\n",
    "A digital option, also known as a binary or all-or-nothing option, is a type of financial option with a fixed payout if the underlying asset's price meets a specified condition at the option's expiration. The payout is either a fixed amount (cash-or-nothing) or nothing at all (asset-or-nothing). Digital options are called \"binary\" because there are only two possible outcomes."
   ]
  },
  {
   "cell_type": "code",
   "execution_count": 11,
   "id": "bbeb8ade-c239-4a73-9448-56b6f0d0307b",
   "metadata": {
    "tags": []
   },
   "outputs": [
    {
     "name": "stdout",
     "output_type": "stream",
     "text": [
      "OUTPUT DATA\n",
      "=============================================\n",
      "Model is: LogNormal\n",
      "=============================================\n",
      "Stock symbol: AMZN\n",
      "S0: 144.57\n",
      "K: 50\n",
      "T: 0.1151\n",
      "---------------------------------------------\n",
      "Method: GBM Model\n",
      "{'Digital Option Call Price': 0.9943, 'Digital Option Put Price': 0.0}\n",
      "=============================================\n"
     ]
    }
   ],
   "source": [
    "# 'call' for Call option\n",
    "option_type = 'call'   \n",
    "call_priceGBM_digital = MC_of_GBM_digital_option(S0, K, r, T, sigma, option_type)\n",
    "\n",
    "#'put' for Put option\n",
    "option_type_put = 'put'\n",
    "put_priceGBM_digital = MC_of_GBM_digital_option(S0, K, r, T, sigma, option_type_put)\n",
    "\n",
    "GBM_digital = {\"Digital Option Call Price\" : round(call_priceGBM_digital,4),\n",
    "       \"Digital Option Put Price\" : round(put_priceGBM_digital,4)}\n",
    "\n",
    "print(\"OUTPUT DATA\")\n",
    "print('=============================================')\n",
    "print('Model is: LogNormal')\n",
    "print('=============================================')\n",
    "print(\"Stock symbol:\", stock_symbol)\n",
    "print(\"S0:\",round(S0,4)) ; print(\"K:\", K) ; print(\"T:\", round(T,4))\n",
    "print('---------------------------------------------')\n",
    "print(\"Method: GBM Model\")\n",
    "print(GBM_digital)\n",
    "print('=============================================')\n"
   ]
  },
  {
   "cell_type": "markdown",
   "id": "268b56eb-dd8a-4be6-8e83-b69c10ef7b7f",
   "metadata": {},
   "source": [
    "## AMERICAN DIGITAL OPTION PRICING - Binomial Tree\n",
    "An American digital option is a financial derivative that combines features of both American-style options and digital options. An American options provide the holder with the right to exercise the option at any time before or at the expiration date. This flexibility to exercise early is a distinguishing feature compared to European options, which can only be exercised at expiration. Regarding the digital option, we have already provided the definition and the charateristics.\n",
    "\n",
    "Combining these features, an American digital option allows the holder to exercise the option at any time before or at expiration, and if the specified condition (related to the underlying asset's price and the chosen threshold) is met, the option pays a fixed amount."
   ]
  },
  {
   "cell_type": "code",
   "execution_count": 12,
   "id": "443822b6-43af-4d3d-adca-44c52da9b60c",
   "metadata": {
    "tags": []
   },
   "outputs": [
    {
     "name": "stdout",
     "output_type": "stream",
     "text": [
      "OUTPUT DATA\n",
      "=============================================\n",
      "Stock symbol: AMZN\n",
      "S0: 144.57\n",
      "K: 50\n",
      "T: 0.1151\n",
      "---------------------------------------------\n",
      "Method: GBM Model\n",
      "{'American-digital Option Call Price': 1.0, 'Amercian-digital Option Put Price': 0.0052}\n",
      "=============================================\n"
     ]
    }
   ],
   "source": [
    "# 'call' for Call option\n",
    "option_type = 'call'  \n",
    "threshold = 110  # Threshold for the digital option\n",
    "call_priceBT_american_digital = binary_tree_american_digital_option(S0, K, r, T, sigma, option_type, threshold)\n",
    "\n",
    "#'put' for Put option\n",
    "option_type = 'put'  \n",
    "threshold = 110  # Threshold for the digital option\n",
    "put_priceBT_american_digital = binary_tree_american_digital_option(S0, K, r, T, sigma, option_type, threshold)\n",
    "\n",
    "BT_American_digital = {\"American-digital Option Call Price\" : round(call_priceBT_american_digital,4),\n",
    "       \"Amercian-digital Option Put Price\" : round(put_priceBT_american_digital,4)}\n",
    "\n",
    "print(\"OUTPUT DATA\")\n",
    "print('=============================================')\n",
    "print(\"Stock symbol:\", stock_symbol)\n",
    "print(\"S0:\",round(S0,4)) ; print(\"K:\", K) ; print(\"T:\", round(T,4))\n",
    "print('---------------------------------------------')\n",
    "print(\"Method: GBM Model\")\n",
    "print(BT_American_digital)\n",
    "print('=============================================')\n"
   ]
  },
  {
   "cell_type": "markdown",
   "id": "0e0aa2cd-eb70-45c5-9287-2aee537e2c33",
   "metadata": {},
   "source": [
    "#### *References *\n",
    "\n",
    "Apple: https://finance.yahoo.com/quote/AAPL/options?p=AAPL\n",
    "\n",
    "Nestlé: https://finance.yahoo.com/quote/NSRGY/options?p=NSRGY\n",
    "\n",
    "Hull, J.C. (2017) Option, Futures, and Other Derivatives (Pearson), 9th edition\n",
    "\n",
    "Shreve, S.E. (2004) Stochastic Calculus for Finance I: The Binomial Asset Pricing Model (Springer Finance)\n",
    "\n",
    "Shreve, S.E. (2004) Stochastic Calculus for Finance II: Continuous-Time Models (Springer Finance)\n",
    "\n",
    "Meng, Y. (2022) “Comparison of Least Square Monte Carlo Algorithm and Binomial Tree Model for Pricing American Options”, 2022 4th International Conference on Economic Management and Cultural Industry (ICEMCI 2022), pp. 2019-2028, Atlantis Press.\n"
   ]
  }
 ],
 "metadata": {
  "kernelspec": {
   "display_name": "Python 3 (ipykernel)",
   "language": "python",
   "name": "python3"
  },
  "language_info": {
   "codemirror_mode": {
    "name": "ipython",
    "version": 3
   },
   "file_extension": ".py",
   "mimetype": "text/x-python",
   "name": "python",
   "nbconvert_exporter": "python",
   "pygments_lexer": "ipython3",
   "version": "3.11.4"
  }
 },
 "nbformat": 4,
 "nbformat_minor": 5
}
